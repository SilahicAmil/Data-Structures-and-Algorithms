{
  "nbformat": 4,
  "nbformat_minor": 0,
  "metadata": {
    "colab": {
      "name": "Data_Stuctures _and_ Algorithms.ipynb",
      "provenance": [],
      "collapsed_sections": [],
      "toc_visible": true,
      "authorship_tag": "ABX9TyPXmQ5BCPLcRjNTKSm3vSw6",
      "include_colab_link": true
    },
    "kernelspec": {
      "name": "python3",
      "display_name": "Python 3"
    },
    "language_info": {
      "name": "python"
    }
  },
  "cells": [
    {
      "cell_type": "markdown",
      "metadata": {
        "id": "view-in-github",
        "colab_type": "text"
      },
      "source": [
        "<a href=\"https://colab.research.google.com/github/SilahicAmil/Data-Structures-and-Algorithms/blob/main/Data_Stuctures__and__Algorithms.ipynb\" target=\"_parent\"><img src=\"https://colab.research.google.com/assets/colab-badge.svg\" alt=\"Open In Colab\"/></a>"
      ]
    },
    {
      "cell_type": "markdown",
      "metadata": {
        "id": "0Ni_xCpKb4Ix"
      },
      "source": [
        "# Arrays\n"
      ]
    },
    {
      "cell_type": "markdown",
      "metadata": {
        "id": "MRV2oTIOUc2e"
      },
      "source": [
        "## Static Vs Dynamic Arrays"
      ]
    },
    {
      "cell_type": "code",
      "metadata": {
        "id": "6Kh-8841oozi",
        "colab": {
          "base_uri": "https://localhost:8080/"
        },
        "outputId": "eed275c6-02f0-4f35-a5ed-8cc6272705e4"
      },
      "source": [
        "strings = ['a', 'b', 'c', 'd']\n",
        "numbers = [1, 2, 3, 4, 5]\n",
        "\n",
        "# Append\n",
        "strings.append('e')\n",
        "\n",
        "strings\n",
        "\n",
        "# Pop\n",
        "strings.pop()\n",
        "strings.pop()\n",
        "\n",
        "strings\n"
      ],
      "execution_count": null,
      "outputs": [
        {
          "output_type": "execute_result",
          "data": {
            "text/plain": [
              "['a', 'b', 'c']"
            ]
          },
          "metadata": {
            "tags": []
          },
          "execution_count": 11
        }
      ]
    },
    {
      "cell_type": "markdown",
      "metadata": {
        "id": "rFppiiTcSkND"
      },
      "source": [
        "## Array implementation\n"
      ]
    },
    {
      "cell_type": "code",
      "metadata": {
        "id": "w6APd59jUmzn"
      },
      "source": [
        "class MyArray():\n",
        "  def __init__(self):\n",
        "    self.length = 0 # Arrays length\n",
        "    self.data = {} # Empty dictionary\n",
        "\n",
        "\n",
        "  def __str__(self):\n",
        "    return str(self.__dict__) # Print atributes of array\n",
        "\n",
        "  def get(self, index):\n",
        "    return self.data[index] # Get index and returns corresponding element\n",
        "\n",
        "  def push(self, item):\n",
        "    self.length += 1\n",
        "    self.data[self.length - 1] = item # Adds item to end of array\n",
        "\n",
        "  def pop(self):\n",
        "    last_item = self.data[self.length - 1] # Collects last element\n",
        "    del self.data[self.length - 1]\n",
        "    self.length -= 1\n",
        "    return last_item\n",
        "\n",
        "  def insert(self, index, item):\n",
        "    self.length += 1\n",
        "    for i in range(self.length-1, index, -1):\n",
        "      self.data[i] = self.data[i+1] # Shifts every element from index one place to the right\n",
        "    self.data[index] = item\n",
        "\n",
        "  def delete(self, index):\n",
        "    for i in range(index, self.length-1):\n",
        "      self.data[i] = self.data[i+1]\n",
        "    del self.data[self.length - 1]\n",
        "    self.length -= 1"
      ],
      "execution_count": null,
      "outputs": []
    },
    {
      "cell_type": "code",
      "metadata": {
        "id": "70sTQN9iWZnn"
      },
      "source": [
        "arr = MyArray()\n",
        "arr.push(6)\n",
        "arr.push(2)\n",
        "arr.push(0)"
      ],
      "execution_count": null,
      "outputs": []
    },
    {
      "cell_type": "code",
      "metadata": {
        "colab": {
          "base_uri": "https://localhost:8080/"
        },
        "id": "3dV691eQWclV",
        "outputId": "c6564c27-eaf3-4b41-d1c2-ac7af2fe0367"
      },
      "source": [
        "arr.pop()"
      ],
      "execution_count": null,
      "outputs": [
        {
          "output_type": "execute_result",
          "data": {
            "text/plain": [
              "0"
            ]
          },
          "metadata": {
            "tags": []
          },
          "execution_count": 18
        }
      ]
    },
    {
      "cell_type": "code",
      "metadata": {
        "id": "b0Tas6eaWi5s"
      },
      "source": [
        "arr.push(45)\n",
        "arr.push(12)\n",
        "arr.push(69)"
      ],
      "execution_count": null,
      "outputs": []
    },
    {
      "cell_type": "code",
      "metadata": {
        "id": "YIj7aHV8Wtlk"
      },
      "source": [
        "arr.insert(10,20)"
      ],
      "execution_count": null,
      "outputs": []
    },
    {
      "cell_type": "code",
      "metadata": {
        "id": "LbwPrBM-WwAM"
      },
      "source": [
        "arr.delete(11)"
      ],
      "execution_count": null,
      "outputs": []
    },
    {
      "cell_type": "code",
      "metadata": {
        "colab": {
          "base_uri": "https://localhost:8080/"
        },
        "id": "YDbdLiQPXIgT",
        "outputId": "c252e7c3-9fc4-455d-b278-f2e55b526543"
      },
      "source": [
        "print(arr)"
      ],
      "execution_count": null,
      "outputs": [
        {
          "output_type": "stream",
          "text": [
            "{'length': 10, 'data': {0: 6, 1: 2, 2: 45, 3: 12, 4: 69, 8: 20, 7: 20}}\n"
          ],
          "name": "stdout"
        }
      ]
    },
    {
      "cell_type": "code",
      "metadata": {
        "colab": {
          "base_uri": "https://localhost:8080/"
        },
        "id": "Xtx94kVeXQVB",
        "outputId": "3c867733-9192-4876-d196-faa9af48adad"
      },
      "source": [
        "print(arr.get(1))"
      ],
      "execution_count": null,
      "outputs": [
        {
          "output_type": "stream",
          "text": [
            "2\n"
          ],
          "name": "stdout"
        }
      ]
    },
    {
      "cell_type": "markdown",
      "metadata": {
        "id": "ryXG2PdRXVUs"
      },
      "source": [
        "## Reversing String"
      ]
    },
    {
      "cell_type": "code",
      "metadata": {
        "colab": {
          "base_uri": "https://localhost:8080/"
        },
        "id": "5rWxD_CHX4lm",
        "outputId": "bc5478ef-f842-41f3-f683-a207aeb174f3"
      },
      "source": [
        "def reverse_string(x):\n",
        "  return x[::-1]\n",
        "\n",
        "text = reverse_string(\"Hello World !\")\n",
        "\n",
        "print(text)"
      ],
      "execution_count": null,
      "outputs": [
        {
          "output_type": "stream",
          "text": [
            "! dlroW olleH\n"
          ],
          "name": "stdout"
        }
      ]
    },
    {
      "cell_type": "markdown",
      "metadata": {
        "id": "1rFn6z87YIaF"
      },
      "source": [
        "## Merge Sorted Arrays"
      ]
    },
    {
      "cell_type": "code",
      "metadata": {
        "id": "o7Q-xM84ZEcY",
        "colab": {
          "base_uri": "https://localhost:8080/"
        },
        "outputId": "c78acd53-4b7a-46de-fc98-c06b9e444731"
      },
      "source": [
        "# 1st way\n",
        "\n",
        "class MergeArray1():\n",
        "    def merge(self, A, x, B, y):\n",
        "        last, i, j = x + y - 1, x - 1, y - 1\n",
        "\n",
        "        while i >= 0 and j >= 0:\n",
        "            if A[i] > B[j]:\n",
        "                A[last] = A[i]\n",
        "                last, i = last - 1, i - 1\n",
        "            else:\n",
        "                A[last] = B[j]\n",
        "                last, j = last - 1, j - 1\n",
        "        while j >= 0:\n",
        "                A[last] = B[j]\n",
        "                last, j = last - 1, j - 1\n",
        "\n",
        "if __name__ == \"__main__\":\n",
        "    A = [1, 3, 5, 0, 0, 0, 0]\n",
        "    B = [2, 4, 6, 7]\n",
        "    MergeArray1().merge(A, 3, B, 4)\n",
        "    print(A)\n",
        "\n",
        "    # Time and space is O(n)\n"
      ],
      "execution_count": 4,
      "outputs": [
        {
          "output_type": "stream",
          "text": [
            "[1, 2, 3, 4, 5, 6, 7]\n"
          ],
          "name": "stdout"
        }
      ]
    },
    {
      "cell_type": "code",
      "metadata": {
        "id": "EtDVaTLPfoog"
      },
      "source": [
        "# 2nd Way\n",
        "\n",
        "class MergeArray2():\n",
        "  def merge(self, num1, x, num2, y):\n",
        "    while x > 0 and n > 0: \n",
        "      if num1[x-1] > num2[y-1]:  # If num1 index of x-1 is greater than num2 index of y-1\n",
        "        num1[x+y-1] = num1[m-1] # then add x and y and minus 1. Which equals array 1 x-1\n",
        "        m -= 1\n",
        "      else:\n",
        "        num1[x+y-1] = num2[y-1]\n",
        "        n -= 1\n",
        "    if n > 0:\n",
        "      num1[:y] = num2[:y]\n",
        "        \n",
        "# Space is O(n)\n"
      ],
      "execution_count": 5,
      "outputs": []
    },
    {
      "cell_type": "code",
      "metadata": {
        "id": "h0_nrXENhv3H"
      },
      "source": [
        ""
      ],
      "execution_count": null,
      "outputs": []
    }
  ]
}