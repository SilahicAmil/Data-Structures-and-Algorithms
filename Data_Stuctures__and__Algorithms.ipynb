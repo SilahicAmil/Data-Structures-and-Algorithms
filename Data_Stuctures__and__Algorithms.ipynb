{
  "nbformat": 4,
  "nbformat_minor": 0,
  "metadata": {
    "colab": {
      "name": "Data_Stuctures _and_ Algorithms.ipynb",
      "provenance": [],
      "collapsed_sections": [],
      "authorship_tag": "ABX9TyOHTKTHgDbF28fz4KPKPRtB",
      "include_colab_link": true
    },
    "kernelspec": {
      "name": "python3",
      "display_name": "Python 3"
    },
    "language_info": {
      "name": "python"
    }
  },
  "cells": [
    {
      "cell_type": "markdown",
      "metadata": {
        "id": "view-in-github",
        "colab_type": "text"
      },
      "source": [
        "<a href=\"https://colab.research.google.com/github/SilahicAmil/Data-Structures-and-Algorithms/blob/main/Data_Stuctures__and__Algorithms.ipynb\" target=\"_parent\"><img src=\"https://colab.research.google.com/assets/colab-badge.svg\" alt=\"Open In Colab\"/></a>"
      ]
    },
    {
      "cell_type": "markdown",
      "metadata": {
        "id": "0Ni_xCpKb4Ix"
      },
      "source": [
        "# Arrays\n"
      ]
    },
    {
      "cell_type": "code",
      "metadata": {
        "id": "6Kh-8841oozi",
        "colab": {
          "base_uri": "https://localhost:8080/"
        },
        "outputId": "eed275c6-02f0-4f35-a5ed-8cc6272705e4"
      },
      "source": [
        "strings = ['a', 'b', 'c', 'd']\n",
        "numbers = [1, 2, 3, 4, 5]\n",
        "\n",
        "# Append\n",
        "strings.append('e')\n",
        "\n",
        "strings\n",
        "\n",
        "# Pop\n",
        "strings.pop()\n",
        "strings.pop()\n",
        "\n",
        "strings\n"
      ],
      "execution_count": null,
      "outputs": [
        {
          "output_type": "execute_result",
          "data": {
            "text/plain": [
              "['a', 'b', 'c']"
            ]
          },
          "metadata": {
            "tags": []
          },
          "execution_count": 11
        }
      ]
    },
    {
      "cell_type": "code",
      "metadata": {
        "id": "zdUSIPfoo2zs"
      },
      "source": [
        ""
      ],
      "execution_count": null,
      "outputs": []
    }
  ]
}