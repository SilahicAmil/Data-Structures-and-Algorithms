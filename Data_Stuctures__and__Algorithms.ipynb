{
  "nbformat": 4,
  "nbformat_minor": 0,
  "metadata": {
    "colab": {
      "name": "Data_Stuctures _and_ Algorithms.ipynb",
      "provenance": [],
      "collapsed_sections": [],
      "toc_visible": true,
      "authorship_tag": "ABX9TyNGa/TlnvJcVvnnNBH2sHtB",
      "include_colab_link": true
    },
    "kernelspec": {
      "name": "python3",
      "display_name": "Python 3"
    },
    "language_info": {
      "name": "python"
    }
  },
  "cells": [
    {
      "cell_type": "markdown",
      "metadata": {
        "id": "view-in-github",
        "colab_type": "text"
      },
      "source": [
        "<a href=\"https://colab.research.google.com/github/SilahicAmil/Data-Structures-and-Algorithms/blob/main/Data_Stuctures__and__Algorithms.ipynb\" target=\"_parent\"><img src=\"https://colab.research.google.com/assets/colab-badge.svg\" alt=\"Open In Colab\"/></a>"
      ]
    },
    {
      "cell_type": "markdown",
      "metadata": {
        "id": "0Ni_xCpKb4Ix"
      },
      "source": [
        "# Arrays\n"
      ]
    },
    {
      "cell_type": "markdown",
      "metadata": {
        "id": "MRV2oTIOUc2e"
      },
      "source": [
        "## Static Vs Dynamic Arrays"
      ]
    },
    {
      "cell_type": "code",
      "metadata": {
        "id": "6Kh-8841oozi",
        "colab": {
          "base_uri": "https://localhost:8080/"
        },
        "outputId": "eed275c6-02f0-4f35-a5ed-8cc6272705e4"
      },
      "source": [
        "strings = ['a', 'b', 'c', 'd']\n",
        "numbers = [1, 2, 3, 4, 5]\n",
        "\n",
        "# Append\n",
        "strings.append('e')\n",
        "\n",
        "strings\n",
        "\n",
        "# Pop\n",
        "strings.pop()\n",
        "strings.pop()\n",
        "\n",
        "strings\n"
      ],
      "execution_count": null,
      "outputs": [
        {
          "output_type": "execute_result",
          "data": {
            "text/plain": [
              "['a', 'b', 'c']"
            ]
          },
          "metadata": {
            "tags": []
          },
          "execution_count": 11
        }
      ]
    },
    {
      "cell_type": "markdown",
      "metadata": {
        "id": "rFppiiTcSkND"
      },
      "source": [
        "## Array implementation\n"
      ]
    },
    {
      "cell_type": "code",
      "metadata": {
        "id": "w6APd59jUmzn"
      },
      "source": [
        "class MyArray():\n",
        "  def __init__(self):\n",
        "    self.length = 0 # Arrays length\n",
        "    self.data = {} # Empty dictionary\n",
        "\n",
        "\n",
        "  def __str__(self):\n",
        "    return str(self.__dict__) # Print atributes of array\n",
        "\n",
        "  def get(self, index):\n",
        "    return self.data[index] # Get index and returns corresponding element\n",
        "\n",
        "  def push(self, item):\n",
        "    self.length += 1\n",
        "    self.data[self.length - 1] = item # Adds item to end of array\n",
        "\n",
        "  def pop(self):\n",
        "    last_item = self.data[self.length - 1] # Collects last element\n",
        "    del self.data[self.length - 1]\n",
        "    self.length -= 1\n",
        "    return last_item\n",
        "\n",
        "  def insert(self, index, item):\n",
        "    self.length += 1\n",
        "    for i in range(self.length-1, index, -1):\n",
        "      self.data[i] = self.data[i+1] # Shifts every element from index one place to the right\n",
        "    self.data[index] = item\n",
        "\n",
        "  def delete(self, index):\n",
        "    for i in range(index, self.length-1):\n",
        "      self.data[i] = self.data[i+1]\n",
        "    del self.data[self.length - 1]\n",
        "    self.length -= 1"
      ],
      "execution_count": 16,
      "outputs": []
    },
    {
      "cell_type": "code",
      "metadata": {
        "id": "70sTQN9iWZnn"
      },
      "source": [
        "arr = MyArray()\n",
        "arr.push(6)\n",
        "arr.push(2)\n",
        "arr.push(0)"
      ],
      "execution_count": 17,
      "outputs": []
    },
    {
      "cell_type": "code",
      "metadata": {
        "colab": {
          "base_uri": "https://localhost:8080/"
        },
        "id": "3dV691eQWclV",
        "outputId": "c6564c27-eaf3-4b41-d1c2-ac7af2fe0367"
      },
      "source": [
        "arr.pop()"
      ],
      "execution_count": 18,
      "outputs": [
        {
          "output_type": "execute_result",
          "data": {
            "text/plain": [
              "0"
            ]
          },
          "metadata": {
            "tags": []
          },
          "execution_count": 18
        }
      ]
    },
    {
      "cell_type": "code",
      "metadata": {
        "id": "b0Tas6eaWi5s"
      },
      "source": [
        "arr.push(45)\n",
        "arr.push(12)\n",
        "arr.push(69)"
      ],
      "execution_count": 19,
      "outputs": []
    },
    {
      "cell_type": "code",
      "metadata": {
        "id": "YIj7aHV8Wtlk"
      },
      "source": [
        "arr.insert(10,20)"
      ],
      "execution_count": 25,
      "outputs": []
    },
    {
      "cell_type": "code",
      "metadata": {
        "id": "LbwPrBM-WwAM"
      },
      "source": [
        "arr.delete(11)"
      ],
      "execution_count": 31,
      "outputs": []
    },
    {
      "cell_type": "code",
      "metadata": {
        "colab": {
          "base_uri": "https://localhost:8080/"
        },
        "id": "YDbdLiQPXIgT",
        "outputId": "c252e7c3-9fc4-455d-b278-f2e55b526543"
      },
      "source": [
        "print(arr)"
      ],
      "execution_count": 32,
      "outputs": [
        {
          "output_type": "stream",
          "text": [
            "{'length': 10, 'data': {0: 6, 1: 2, 2: 45, 3: 12, 4: 69, 8: 20, 7: 20}}\n"
          ],
          "name": "stdout"
        }
      ]
    },
    {
      "cell_type": "code",
      "metadata": {
        "colab": {
          "base_uri": "https://localhost:8080/"
        },
        "id": "Xtx94kVeXQVB",
        "outputId": "3c867733-9192-4876-d196-faa9af48adad"
      },
      "source": [
        "print(arr.get(1))"
      ],
      "execution_count": 33,
      "outputs": [
        {
          "output_type": "stream",
          "text": [
            "2\n"
          ],
          "name": "stdout"
        }
      ]
    },
    {
      "cell_type": "code",
      "metadata": {
        "id": "ryXG2PdRXVUs"
      },
      "source": [
        ""
      ],
      "execution_count": null,
      "outputs": []
    }
  ]
}